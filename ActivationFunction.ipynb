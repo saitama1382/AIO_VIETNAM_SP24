{
 "cells": [
  {
   "cell_type": "code",
   "execution_count": 71,
   "id": "dfac02b2-9fb1-4ef1-bc01-5936e68a816a",
   "metadata": {},
   "outputs": [
    {
     "name": "stdin",
     "output_type": "stream",
     "text": [
      " 2\n"
     ]
    },
    {
     "name": "stdout",
     "output_type": "stream",
     "text": [
      "0.8807970779778823\n"
     ]
    }
   ],
   "source": [
    "#Sigmoid Function\n",
    "x = int(input())\n",
    "sigmoid = float(1 / (1 + e ** (-x)))\n",
    "print(sigmoid)"
   ]
  },
  {
   "cell_type": "code",
   "execution_count": 73,
   "id": "e9a583f0-5dfd-4abd-9ba4-f3ecb9126e0b",
   "metadata": {},
   "outputs": [
    {
     "name": "stdin",
     "output_type": "stream",
     "text": [
      " 2\n"
     ]
    },
    {
     "name": "stdout",
     "output_type": "stream",
     "text": [
      "0.9640275800758169\n"
     ]
    }
   ],
   "source": [
    "#tanh function\n",
    "x = int(input())\n",
    "tanh = float((2 / (1 + e ** (-2 * x))) - 1)\n",
    "print(tanh)"
   ]
  },
  {
   "cell_type": "code",
   "execution_count": 77,
   "id": "28381022-cbdf-46c7-8ae4-6b5a774493a8",
   "metadata": {},
   "outputs": [
    {
     "name": "stdin",
     "output_type": "stream",
     "text": [
      " 2\n"
     ]
    },
    {
     "name": "stdout",
     "output_type": "stream",
     "text": [
      "2.1269280110429722\n"
     ]
    }
   ],
   "source": [
    "#Softplus\n",
    "x = int(input())\n",
    "softplus = floatlog(1 + e ** x)\n",
    "print(softplus)"
   ]
  },
  {
   "cell_type": "code",
   "execution_count": 82,
   "id": "2207cf6c-5ee6-451b-9fb7-d2bf05e9ca8b",
   "metadata": {},
   "outputs": [
    {
     "name": "stdin",
     "output_type": "stream",
     "text": [
      " -2\n"
     ]
    },
    {
     "name": "stdout",
     "output_type": "stream",
     "text": [
      "0\n"
     ]
    }
   ],
   "source": [
    "#reLu function\n",
    "x = int(input())\n",
    "if x <=0 :\n",
    "    print(0)\n",
    "else :\n",
    "    print(x)\n",
    "    "
   ]
  },
  {
   "cell_type": "code",
   "execution_count": 86,
   "id": "619968ff-73a0-492e-9486-7e91e515f1d3",
   "metadata": {},
   "outputs": [
    {
     "name": "stdin",
     "output_type": "stream",
     "text": [
      " -2\n"
     ]
    },
    {
     "name": "stdout",
     "output_type": "stream",
     "text": [
      "-0.02\n"
     ]
    }
   ],
   "source": [
    "#leakyRelu function\n",
    "x = int(input())\n",
    "if x <= 0 :\n",
    "    print(0.01 * x)\n",
    "else :\n",
    "    print(x)\n"
   ]
  },
  {
   "cell_type": "code",
   "execution_count": 92,
   "id": "4c3ae6e8-cbae-4a7e-a420-8a2cb44aa234",
   "metadata": {},
   "outputs": [
    {
     "name": "stdin",
     "output_type": "stream",
     "text": [
      " -4\n"
     ]
    },
    {
     "name": "stdout",
     "output_type": "stream",
     "text": [
      "-0.009816843611112657\n"
     ]
    }
   ],
   "source": [
    "#Elu function\n",
    "x = int(input())\n",
    "alpha = 0.01\n",
    "if x <= 0 :\n",
    "    print(alpha * (e ** x - 1))\n",
    "else :\n",
    "    print(x)"
   ]
  },
  {
   "cell_type": "code",
   "execution_count": 93,
   "id": "2f4df74a-0cc4-49c2-984a-ff5ffa14cfa1",
   "metadata": {},
   "outputs": [
    {
     "name": "stdin",
     "output_type": "stream",
     "text": [
      " -4\n"
     ]
    },
    {
     "name": "stdout",
     "output_type": "stream",
     "text": [
      "-0.4\n"
     ]
    }
   ],
   "source": [
    "#preLu function\n",
    "x = int(input())\n",
    "alpha = 0.1\n",
    "if x <= 0 :\n",
    "    print(alpha * x)\n",
    "else :\n",
    "    print(x)\n",
    "    "
   ]
  },
  {
   "cell_type": "code",
   "execution_count": 95,
   "id": "fffdabaa-d69f-41e7-a529-c75219aa12ee",
   "metadata": {},
   "outputs": [
    {
     "name": "stdin",
     "output_type": "stream",
     "text": [
      " -2\n"
     ]
    },
    {
     "name": "stdout",
     "output_type": "stream",
     "text": [
      "-0.23840584404423515\n"
     ]
    }
   ],
   "source": [
    "x = int(input())\n",
    "beta = 1\n",
    "print(x / (1 + e ** (-beta * x)))"
   ]
  },
  {
   "cell_type": "code",
   "execution_count": null,
   "id": "0cc3f275-32f0-471e-b88b-21ec0acb2531",
   "metadata": {},
   "outputs": [],
   "source": []
  }
 ],
 "metadata": {
  "kernelspec": {
   "display_name": "Python 3 (ipykernel)",
   "language": "python",
   "name": "python3"
  },
  "language_info": {
   "codemirror_mode": {
    "name": "ipython",
    "version": 3
   },
   "file_extension": ".py",
   "mimetype": "text/x-python",
   "name": "python",
   "nbconvert_exporter": "python",
   "pygments_lexer": "ipython3",
   "version": "3.8.10"
  }
 },
 "nbformat": 4,
 "nbformat_minor": 5
}
